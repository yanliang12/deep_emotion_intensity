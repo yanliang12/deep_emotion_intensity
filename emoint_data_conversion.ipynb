{
 "cells": [
  {
   "cell_type": "code",
   "execution_count": 1,
   "id": "739e273f",
   "metadata": {},
   "outputs": [],
   "source": [
    "import re\n",
    "import csv\n",
    "from pyspark import *\n",
    "from pyspark.sql import *\n",
    "from pyspark.sql.types import *\n",
    "from pyspark.sql.functions import *"
   ]
  },
  {
   "cell_type": "code",
   "execution_count": 2,
   "id": "40881779",
   "metadata": {},
   "outputs": [
    {
     "name": "stderr",
     "output_type": "stream",
     "text": [
      "Using Spark's default log4j profile: org/apache/spark/log4j-defaults.properties\n",
      "Setting default log level to \"WARN\".\n",
      "To adjust logging level use sc.setLogLevel(newLevel). For SparkR, use setLogLevel(newLevel).\n",
      "22/03/11 13:23:42 WARN NativeCodeLoader: Unable to load native-hadoop library for your platform... using builtin-java classes where applicable\n"
     ]
    }
   ],
   "source": [
    "sc = SparkContext(\"local\")\n",
    "sqlContext = SparkSession.builder.getOrCreate()"
   ]
  },
  {
   "cell_type": "code",
   "execution_count": 4,
   "id": "7b701264",
   "metadata": {},
   "outputs": [],
   "source": [
    "def str2float(input):\n",
    "    try:\n",
    "        return float(input)\n",
    "    except:\n",
    "        return None\n",
    "\n",
    "udf_str2float = udf(str2float, FloatType())"
   ]
  },
  {
   "cell_type": "markdown",
   "id": "e1610f92",
   "metadata": {},
   "source": [
    "# convert text file to text, tag and score list"
   ]
  },
  {
   "cell_type": "code",
   "execution_count": 5,
   "id": "b5ace6f0",
   "metadata": {},
   "outputs": [],
   "source": [
    "def convert_file_to_text_and_tag_list(\n",
    "    emotion_tag,\n",
    "    data_file,\n",
    "    ):\n",
    "    schema = StructType()\\\n",
    "        .add(\"tweet_id\",StringType(),True)\\\n",
    "        .add(\"text\",StringType(),True)\\\n",
    "        .add(\"emotion\",StringType(),True)\\\n",
    "        .add(\"intensity\",FloatType(),True)\n",
    "    train = sqlContext.read.format('csv')\\\n",
    "        .options(delimiter='\\t')\\\n",
    "        .schema(schema)\\\n",
    "        .load(data_file)\\\n",
    "        .withColumn(\"intensity\", udf_str2float(\"intensity\"))\n",
    "    train.registerTempTable(\"train\")\n",
    "    train_list = sqlContext.sql(u\"\"\"\n",
    "        SELECT *, \n",
    "        CASE \n",
    "            WHEN emotion = '%s' THEN 1\n",
    "            ELSE 0\n",
    "        END AS label\n",
    "        FROM train\n",
    "        WHERE emotion IS NOT NULL\n",
    "        \"\"\"%(emotion_tag)).collect()\n",
    "    texts = [r.text for r in train_list]\n",
    "    tags = [r.label for r in train_list]\n",
    "    return texts, tags"
   ]
  },
  {
   "cell_type": "code",
   "execution_count": 6,
   "id": "481e9500",
   "metadata": {},
   "outputs": [],
   "source": [
    "def convert_file_to_text_and_score_list(\n",
    "    emotion_tag,\n",
    "    data_file,\n",
    "    ):\n",
    "    udf_str2float = udf(str2float, FloatType())\n",
    "    schema = StructType()\\\n",
    "        .add(\"tweet_id\",StringType(),True)\\\n",
    "        .add(\"text\",StringType(),True)\\\n",
    "        .add(\"emotion\",StringType(),True)\\\n",
    "        .add(\"intensity\",FloatType(),True)\n",
    "    train = sqlContext.read.format('csv')\\\n",
    "        .options(delimiter='\\t')\\\n",
    "        .schema(schema)\\\n",
    "        .load(data_file)\\\n",
    "        .withColumn(\"intensity\", udf_str2float(\"intensity\"))\n",
    "    train.registerTempTable(\"train\")\n",
    "    train_list = sqlContext.sql(u\"\"\"\n",
    "        SELECT *\n",
    "        FROM train\n",
    "        WHERE emotion = '%s' AND intensity IS NOT NULL\n",
    "        \"\"\"%(emotion_tag)).collect()\n",
    "    texts = [r.text for r in train_list]\n",
    "    scores = [r.intensity for r in train_list]\n",
    "    return texts, scores"
   ]
  },
  {
   "cell_type": "code",
   "execution_count": null,
   "id": "135a7ae0",
   "metadata": {},
   "outputs": [],
   "source": []
  }
 ],
 "metadata": {
  "kernelspec": {
   "display_name": "Python 3 (ipykernel)",
   "language": "python",
   "name": "python3"
  },
  "language_info": {
   "codemirror_mode": {
    "name": "ipython",
    "version": 3
   },
   "file_extension": ".py",
   "mimetype": "text/x-python",
   "name": "python",
   "nbconvert_exporter": "python",
   "pygments_lexer": "ipython3",
   "version": "3.9.2"
  }
 },
 "nbformat": 4,
 "nbformat_minor": 5
}
